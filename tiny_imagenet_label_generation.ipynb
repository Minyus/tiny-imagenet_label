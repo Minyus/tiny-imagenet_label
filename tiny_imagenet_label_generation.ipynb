{
  "nbformat": 4,
  "nbformat_minor": 0,
  "metadata": {
    "colab": {
      "name": "tiny-imagenet_label_generation.ipynb",
      "provenance": []
    },
    "kernelspec": {
      "name": "python3",
      "display_name": "Python 3"
    },
    "language_info": {
      "name": "python"
    }
  },
  "cells": [
    {
      "cell_type": "code",
      "metadata": {
        "colab": {
          "base_uri": "https://localhost:8080/"
        },
        "id": "LIoQmRp5-otx",
        "outputId": "b9f59410-b400-443a-b5b7-58daec40364a"
      },
      "source": [
        "!wget http://cs231n.stanford.edu/tiny-imagenet-200.zip"
      ],
      "execution_count": 1,
      "outputs": [
        {
          "output_type": "stream",
          "name": "stdout",
          "text": [
            "--2021-11-14 15:05:02--  http://cs231n.stanford.edu/tiny-imagenet-200.zip\n",
            "Resolving cs231n.stanford.edu (cs231n.stanford.edu)... 171.64.68.10\n",
            "Connecting to cs231n.stanford.edu (cs231n.stanford.edu)|171.64.68.10|:80... connected.\n",
            "HTTP request sent, awaiting response... 200 OK\n",
            "Length: 248100043 (237M) [application/zip]\n",
            "Saving to: ‘tiny-imagenet-200.zip’\n",
            "\n",
            "tiny-imagenet-200.z 100%[===================>] 236.61M  37.7MB/s    in 6.9s    \n",
            "\n",
            "2021-11-14 15:05:10 (34.1 MB/s) - ‘tiny-imagenet-200.zip’ saved [248100043/248100043]\n",
            "\n"
          ]
        }
      ]
    },
    {
      "cell_type": "code",
      "metadata": {
        "id": "wU_fhDdH-q-i"
      },
      "source": [
        "!unzip -qq 'tiny-imagenet-200.zip'"
      ],
      "execution_count": 2,
      "outputs": []
    },
    {
      "cell_type": "code",
      "metadata": {
        "id": "2TBMXayI-2Ju"
      },
      "source": [
        "cat_list = [path.stem for path in Path(\"tiny-imagenet-200/train\").glob('*')]\n",
        "cat_list.sort()"
      ],
      "execution_count": 12,
      "outputs": []
    },
    {
      "cell_type": "code",
      "metadata": {
        "colab": {
          "base_uri": "https://localhost:8080/"
        },
        "id": "ukd7VIujP_e5",
        "outputId": "5e8d0124-b836-40b6-f53a-346f1b77d9c3"
      },
      "source": [
        "cat_dict = {cat: idx for (idx, cat) in list(enumerate(cat_list))}\n",
        "cat_dict"
      ],
      "execution_count": 16,
      "outputs": [
        {
          "output_type": "execute_result",
          "data": {
            "text/plain": [
              "{'n01443537': 0,\n",
              " 'n01629819': 1,\n",
              " 'n01641577': 2,\n",
              " 'n01644900': 3,\n",
              " 'n01698640': 4,\n",
              " 'n01742172': 5,\n",
              " 'n01768244': 6,\n",
              " 'n01770393': 7,\n",
              " 'n01774384': 8,\n",
              " 'n01774750': 9,\n",
              " 'n01784675': 10,\n",
              " 'n01855672': 11,\n",
              " 'n01882714': 12,\n",
              " 'n01910747': 13,\n",
              " 'n01917289': 14,\n",
              " 'n01944390': 15,\n",
              " 'n01945685': 16,\n",
              " 'n01950731': 17,\n",
              " 'n01983481': 18,\n",
              " 'n01984695': 19,\n",
              " 'n02002724': 20,\n",
              " 'n02056570': 21,\n",
              " 'n02058221': 22,\n",
              " 'n02074367': 23,\n",
              " 'n02085620': 24,\n",
              " 'n02094433': 25,\n",
              " 'n02099601': 26,\n",
              " 'n02099712': 27,\n",
              " 'n02106662': 28,\n",
              " 'n02113799': 29,\n",
              " 'n02123045': 30,\n",
              " 'n02123394': 31,\n",
              " 'n02124075': 32,\n",
              " 'n02125311': 33,\n",
              " 'n02129165': 34,\n",
              " 'n02132136': 35,\n",
              " 'n02165456': 36,\n",
              " 'n02190166': 37,\n",
              " 'n02206856': 38,\n",
              " 'n02226429': 39,\n",
              " 'n02231487': 40,\n",
              " 'n02233338': 41,\n",
              " 'n02236044': 42,\n",
              " 'n02268443': 43,\n",
              " 'n02279972': 44,\n",
              " 'n02281406': 45,\n",
              " 'n02321529': 46,\n",
              " 'n02364673': 47,\n",
              " 'n02395406': 48,\n",
              " 'n02403003': 49,\n",
              " 'n02410509': 50,\n",
              " 'n02415577': 51,\n",
              " 'n02423022': 52,\n",
              " 'n02437312': 53,\n",
              " 'n02480495': 54,\n",
              " 'n02481823': 55,\n",
              " 'n02486410': 56,\n",
              " 'n02504458': 57,\n",
              " 'n02509815': 58,\n",
              " 'n02666196': 59,\n",
              " 'n02669723': 60,\n",
              " 'n02699494': 61,\n",
              " 'n02730930': 62,\n",
              " 'n02769748': 63,\n",
              " 'n02788148': 64,\n",
              " 'n02791270': 65,\n",
              " 'n02793495': 66,\n",
              " 'n02795169': 67,\n",
              " 'n02802426': 68,\n",
              " 'n02808440': 69,\n",
              " 'n02814533': 70,\n",
              " 'n02814860': 71,\n",
              " 'n02815834': 72,\n",
              " 'n02823428': 73,\n",
              " 'n02837789': 74,\n",
              " 'n02841315': 75,\n",
              " 'n02843684': 76,\n",
              " 'n02883205': 77,\n",
              " 'n02892201': 78,\n",
              " 'n02906734': 79,\n",
              " 'n02909870': 80,\n",
              " 'n02917067': 81,\n",
              " 'n02927161': 82,\n",
              " 'n02948072': 83,\n",
              " 'n02950826': 84,\n",
              " 'n02963159': 85,\n",
              " 'n02977058': 86,\n",
              " 'n02988304': 87,\n",
              " 'n02999410': 88,\n",
              " 'n03014705': 89,\n",
              " 'n03026506': 90,\n",
              " 'n03042490': 91,\n",
              " 'n03085013': 92,\n",
              " 'n03089624': 93,\n",
              " 'n03100240': 94,\n",
              " 'n03126707': 95,\n",
              " 'n03160309': 96,\n",
              " 'n03179701': 97,\n",
              " 'n03201208': 98,\n",
              " 'n03250847': 99,\n",
              " 'n03255030': 100,\n",
              " 'n03355925': 101,\n",
              " 'n03388043': 102,\n",
              " 'n03393912': 103,\n",
              " 'n03400231': 104,\n",
              " 'n03404251': 105,\n",
              " 'n03424325': 106,\n",
              " 'n03444034': 107,\n",
              " 'n03447447': 108,\n",
              " 'n03544143': 109,\n",
              " 'n03584254': 110,\n",
              " 'n03599486': 111,\n",
              " 'n03617480': 112,\n",
              " 'n03637318': 113,\n",
              " 'n03649909': 114,\n",
              " 'n03662601': 115,\n",
              " 'n03670208': 116,\n",
              " 'n03706229': 117,\n",
              " 'n03733131': 118,\n",
              " 'n03763968': 119,\n",
              " 'n03770439': 120,\n",
              " 'n03796401': 121,\n",
              " 'n03804744': 122,\n",
              " 'n03814639': 123,\n",
              " 'n03837869': 124,\n",
              " 'n03838899': 125,\n",
              " 'n03854065': 126,\n",
              " 'n03891332': 127,\n",
              " 'n03902125': 128,\n",
              " 'n03930313': 129,\n",
              " 'n03937543': 130,\n",
              " 'n03970156': 131,\n",
              " 'n03976657': 132,\n",
              " 'n03977966': 133,\n",
              " 'n03980874': 134,\n",
              " 'n03983396': 135,\n",
              " 'n03992509': 136,\n",
              " 'n04008634': 137,\n",
              " 'n04023962': 138,\n",
              " 'n04067472': 139,\n",
              " 'n04070727': 140,\n",
              " 'n04074963': 141,\n",
              " 'n04099969': 142,\n",
              " 'n04118538': 143,\n",
              " 'n04133789': 144,\n",
              " 'n04146614': 145,\n",
              " 'n04149813': 146,\n",
              " 'n04179913': 147,\n",
              " 'n04251144': 148,\n",
              " 'n04254777': 149,\n",
              " 'n04259630': 150,\n",
              " 'n04265275': 151,\n",
              " 'n04275548': 152,\n",
              " 'n04285008': 153,\n",
              " 'n04311004': 154,\n",
              " 'n04328186': 155,\n",
              " 'n04356056': 156,\n",
              " 'n04366367': 157,\n",
              " 'n04371430': 158,\n",
              " 'n04376876': 159,\n",
              " 'n04398044': 160,\n",
              " 'n04399382': 161,\n",
              " 'n04417672': 162,\n",
              " 'n04456115': 163,\n",
              " 'n04465501': 164,\n",
              " 'n04486054': 165,\n",
              " 'n04487081': 166,\n",
              " 'n04501370': 167,\n",
              " 'n04507155': 168,\n",
              " 'n04532106': 169,\n",
              " 'n04532670': 170,\n",
              " 'n04540053': 171,\n",
              " 'n04560804': 172,\n",
              " 'n04562935': 173,\n",
              " 'n04596742': 174,\n",
              " 'n04597913': 175,\n",
              " 'n06596364': 176,\n",
              " 'n07579787': 177,\n",
              " 'n07583066': 178,\n",
              " 'n07614500': 179,\n",
              " 'n07615774': 180,\n",
              " 'n07695742': 181,\n",
              " 'n07711569': 182,\n",
              " 'n07715103': 183,\n",
              " 'n07720875': 184,\n",
              " 'n07734744': 185,\n",
              " 'n07747607': 186,\n",
              " 'n07749582': 187,\n",
              " 'n07753592': 188,\n",
              " 'n07768694': 189,\n",
              " 'n07871810': 190,\n",
              " 'n07873807': 191,\n",
              " 'n07875152': 192,\n",
              " 'n07920052': 193,\n",
              " 'n09193705': 194,\n",
              " 'n09246464': 195,\n",
              " 'n09256479': 196,\n",
              " 'n09332890': 197,\n",
              " 'n09428293': 198,\n",
              " 'n12267677': 199}"
            ]
          },
          "metadata": {},
          "execution_count": 16
        }
      ]
    },
    {
      "cell_type": "code",
      "metadata": {
        "id": "W_zWU4MN-6By"
      },
      "source": [
        "import os\n",
        "from pathlib import Path\n",
        "import pandas as pd"
      ],
      "execution_count": 18,
      "outputs": []
    },
    {
      "cell_type": "code",
      "metadata": {
        "id": "iPnLHOxB_NGi"
      },
      "source": [
        "if 1:\n",
        "    split = \"train\"\n",
        "    dir = \"tiny-imagenet-200/\" + split\n",
        "\n",
        "    ls = list()\n",
        "    for path in Path(dir).glob('**/*.JPEG'):\n",
        "        parts = list(path.parts)[2:]\n",
        "        p_str = \"/\".join(parts)\n",
        "        cat_idx = cat_dict[parts[0]]\n",
        "        ls.append((p_str, cat_idx))\n",
        "\n",
        "    df = pd.DataFrame.from_records(ls)\n",
        "    df.to_csv(split + \".txt\", sep=\" \", index=False, header=False)\n"
      ],
      "execution_count": 44,
      "outputs": []
    },
    {
      "cell_type": "code",
      "metadata": {
        "colab": {
          "base_uri": "https://localhost:8080/"
        },
        "id": "jEDcR2VK_bhD",
        "outputId": "65ea26ed-200f-491e-c4d1-ffdd10ac030a"
      },
      "source": [
        "!head train.txt"
      ],
      "execution_count": 45,
      "outputs": [
        {
          "output_type": "stream",
          "name": "stdout",
          "text": [
            "n02795169/images/n02795169_472.JPEG 67\n",
            "n02795169/images/n02795169_81.JPEG 67\n",
            "n02795169/images/n02795169_209.JPEG 67\n",
            "n02795169/images/n02795169_458.JPEG 67\n",
            "n02795169/images/n02795169_5.JPEG 67\n",
            "n02795169/images/n02795169_256.JPEG 67\n",
            "n02795169/images/n02795169_483.JPEG 67\n",
            "n02795169/images/n02795169_365.JPEG 67\n",
            "n02795169/images/n02795169_254.JPEG 67\n",
            "n02795169/images/n02795169_405.JPEG 67\n"
          ]
        }
      ]
    },
    {
      "cell_type": "code",
      "metadata": {
        "id": "6nNa8PWwScL-"
      },
      "source": [
        "ann_df = pd.read_csv(\"tiny-imagenet-200/val/val_annotations.txt\", sep=\"\\t\", header=None)\n"
      ],
      "execution_count": 56,
      "outputs": []
    },
    {
      "cell_type": "code",
      "metadata": {
        "id": "7c1uuomjTT9r"
      },
      "source": [
        "ann_df.columns = [\"p_str\", \"cat\", \"bb0\", \"bb1\", \"bb2\", \"bb3\"]"
      ],
      "execution_count": 61,
      "outputs": []
    },
    {
      "cell_type": "code",
      "metadata": {
        "id": "NMeWNtUqYzPM"
      },
      "source": [
        "df = pd.DataFrame()\n",
        "df[\"p_str\"] = ann_df[\"p_str\"].apply(\"images/{}\".format)\n",
        "df[\"cat\"] = ann_df[\"cat\"].map(cat_dict)"
      ],
      "execution_count": 66,
      "outputs": []
    },
    {
      "cell_type": "code",
      "metadata": {
        "colab": {
          "base_uri": "https://localhost:8080/",
          "height": 424
        },
        "id": "ldZ7jDx_aWzF",
        "outputId": "2c4dafc2-df53-4cdd-a56b-ad6456c5e1a3"
      },
      "source": [
        "df"
      ],
      "execution_count": 67,
      "outputs": [
        {
          "output_type": "execute_result",
          "data": {
            "text/html": [
              "<div>\n",
              "<style scoped>\n",
              "    .dataframe tbody tr th:only-of-type {\n",
              "        vertical-align: middle;\n",
              "    }\n",
              "\n",
              "    .dataframe tbody tr th {\n",
              "        vertical-align: top;\n",
              "    }\n",
              "\n",
              "    .dataframe thead th {\n",
              "        text-align: right;\n",
              "    }\n",
              "</style>\n",
              "<table border=\"1\" class=\"dataframe\">\n",
              "  <thead>\n",
              "    <tr style=\"text-align: right;\">\n",
              "      <th></th>\n",
              "      <th>p_str</th>\n",
              "      <th>cat</th>\n",
              "    </tr>\n",
              "  </thead>\n",
              "  <tbody>\n",
              "    <tr>\n",
              "      <th>0</th>\n",
              "      <td>images/val_0.JPEG</td>\n",
              "      <td>107</td>\n",
              "    </tr>\n",
              "    <tr>\n",
              "      <th>1</th>\n",
              "      <td>images/val_1.JPEG</td>\n",
              "      <td>139</td>\n",
              "    </tr>\n",
              "    <tr>\n",
              "      <th>2</th>\n",
              "      <td>images/val_2.JPEG</td>\n",
              "      <td>140</td>\n",
              "    </tr>\n",
              "    <tr>\n",
              "      <th>3</th>\n",
              "      <td>images/val_3.JPEG</td>\n",
              "      <td>69</td>\n",
              "    </tr>\n",
              "    <tr>\n",
              "      <th>4</th>\n",
              "      <td>images/val_4.JPEG</td>\n",
              "      <td>69</td>\n",
              "    </tr>\n",
              "    <tr>\n",
              "      <th>...</th>\n",
              "      <td>...</td>\n",
              "      <td>...</td>\n",
              "    </tr>\n",
              "    <tr>\n",
              "      <th>9995</th>\n",
              "      <td>images/val_9995.JPEG</td>\n",
              "      <td>92</td>\n",
              "    </tr>\n",
              "    <tr>\n",
              "      <th>9996</th>\n",
              "      <td>images/val_9996.JPEG</td>\n",
              "      <td>107</td>\n",
              "    </tr>\n",
              "    <tr>\n",
              "      <th>9997</th>\n",
              "      <td>images/val_9997.JPEG</td>\n",
              "      <td>106</td>\n",
              "    </tr>\n",
              "    <tr>\n",
              "      <th>9998</th>\n",
              "      <td>images/val_9998.JPEG</td>\n",
              "      <td>1</td>\n",
              "    </tr>\n",
              "    <tr>\n",
              "      <th>9999</th>\n",
              "      <td>images/val_9999.JPEG</td>\n",
              "      <td>61</td>\n",
              "    </tr>\n",
              "  </tbody>\n",
              "</table>\n",
              "<p>10000 rows × 2 columns</p>\n",
              "</div>"
            ],
            "text/plain": [
              "                     p_str  cat\n",
              "0        images/val_0.JPEG  107\n",
              "1        images/val_1.JPEG  139\n",
              "2        images/val_2.JPEG  140\n",
              "3        images/val_3.JPEG   69\n",
              "4        images/val_4.JPEG   69\n",
              "...                    ...  ...\n",
              "9995  images/val_9995.JPEG   92\n",
              "9996  images/val_9996.JPEG  107\n",
              "9997  images/val_9997.JPEG  106\n",
              "9998  images/val_9998.JPEG    1\n",
              "9999  images/val_9999.JPEG   61\n",
              "\n",
              "[10000 rows x 2 columns]"
            ]
          },
          "metadata": {},
          "execution_count": 67
        }
      ]
    },
    {
      "cell_type": "code",
      "metadata": {
        "id": "rnkVvskRaxD7"
      },
      "source": [
        "df.to_csv(\"val.txt\", sep=\" \", index=False, header=False)"
      ],
      "execution_count": 68,
      "outputs": []
    },
    {
      "cell_type": "code",
      "metadata": {
        "colab": {
          "base_uri": "https://localhost:8080/"
        },
        "id": "z5OhYLZMbHAz",
        "outputId": "377dcb1e-98fd-4ea1-c1f1-fc4cc2d8d121"
      },
      "source": [
        "!head val.txt"
      ],
      "execution_count": 70,
      "outputs": [
        {
          "output_type": "stream",
          "name": "stdout",
          "text": [
            "images/val_0.JPEG 107\n",
            "images/val_1.JPEG 139\n",
            "images/val_2.JPEG 140\n",
            "images/val_3.JPEG 69\n",
            "images/val_4.JPEG 69\n",
            "images/val_5.JPEG 161\n",
            "images/val_6.JPEG 147\n",
            "images/val_7.JPEG 73\n",
            "images/val_8.JPEG 145\n",
            "images/val_9.JPEG 39\n"
          ]
        }
      ]
    },
    {
      "cell_type": "code",
      "metadata": {
        "id": "ac2KyB6mbIaR"
      },
      "source": [
        ""
      ],
      "execution_count": null,
      "outputs": []
    }
  ]
}